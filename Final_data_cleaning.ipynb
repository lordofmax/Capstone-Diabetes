{
 "cells": [
  {
   "cell_type": "markdown",
   "metadata": {},
   "source": [
    "# Project Scope"
   ]
  },
  {
   "cell_type": "markdown",
   "metadata": {},
   "source": [
    "This project uses the UCI patient dataset to generate a model to predict diabetic patients at high risk for re-hospitalization"
   ]
  },
  {
   "cell_type": "markdown",
   "metadata": {},
   "source": [
    "# Data Set Exploration"
   ]
  },
  {
   "cell_type": "code",
   "execution_count": 7,
   "metadata": {},
   "outputs": [],
   "source": [
    "import pandas as pd\n",
    "import numpy as np\n",
    "import matplotlib.pyplot as plt\n",
    "import time\n",
    "from sklearn.model_selection import train_test_split\n"
   ]
  },
  {
   "cell_type": "code",
   "execution_count": 8,
   "metadata": {},
   "outputs": [
    {
     "name": "stdout",
     "output_type": "stream",
     "text": [
      "diabetic_data has shape (101766, 50)\n"
     ]
    }
   ],
   "source": [
    "#load the diabetic dataset\n",
    "diabetic_df = pd.read_csv('dataset_diabetes/diabetic_data.csv')\n",
    "\n",
    "print(f'diabetic_data has shape {diabetic_df.shape}')\n"
   ]
  },
  {
   "cell_type": "code",
   "execution_count": 9,
   "metadata": {},
   "outputs": [],
   "source": [
    "#make a copy for data exploration and cleaning\n",
    "df = diabetic_df.copy(deep=True)\n"
   ]
  },
  {
   "cell_type": "code",
   "execution_count": 10,
   "metadata": {},
   "outputs": [
    {
     "name": "stdout",
     "output_type": "stream",
     "text": [
      "<class 'pandas.core.frame.DataFrame'>\n",
      "RangeIndex: 101766 entries, 0 to 101765\n",
      "Data columns (total 50 columns):\n",
      "encounter_id                101766 non-null int64\n",
      "patient_nbr                 101766 non-null int64\n",
      "race                        101766 non-null object\n",
      "gender                      101766 non-null object\n",
      "age                         101766 non-null object\n",
      "weight                      101766 non-null object\n",
      "admission_type_id           101766 non-null int64\n",
      "discharge_disposition_id    101766 non-null int64\n",
      "admission_source_id         101766 non-null int64\n",
      "time_in_hospital            101766 non-null int64\n",
      "payer_code                  101766 non-null object\n",
      "medical_specialty           101766 non-null object\n",
      "num_lab_procedures          101766 non-null int64\n",
      "num_procedures              101766 non-null int64\n",
      "num_medications             101766 non-null int64\n",
      "number_outpatient           101766 non-null int64\n",
      "number_emergency            101766 non-null int64\n",
      "number_inpatient            101766 non-null int64\n",
      "diag_1                      101766 non-null object\n",
      "diag_2                      101766 non-null object\n",
      "diag_3                      101766 non-null object\n",
      "number_diagnoses            101766 non-null int64\n",
      "max_glu_serum               101766 non-null object\n",
      "A1Cresult                   101766 non-null object\n",
      "metformin                   101766 non-null object\n",
      "repaglinide                 101766 non-null object\n",
      "nateglinide                 101766 non-null object\n",
      "chlorpropamide              101766 non-null object\n",
      "glimepiride                 101766 non-null object\n",
      "acetohexamide               101766 non-null object\n",
      "glipizide                   101766 non-null object\n",
      "glyburide                   101766 non-null object\n",
      "tolbutamide                 101766 non-null object\n",
      "pioglitazone                101766 non-null object\n",
      "rosiglitazone               101766 non-null object\n",
      "acarbose                    101766 non-null object\n",
      "miglitol                    101766 non-null object\n",
      "troglitazone                101766 non-null object\n",
      "tolazamide                  101766 non-null object\n",
      "examide                     101766 non-null object\n",
      "citoglipton                 101766 non-null object\n",
      "insulin                     101766 non-null object\n",
      "glyburide-metformin         101766 non-null object\n",
      "glipizide-metformin         101766 non-null object\n",
      "glimepiride-pioglitazone    101766 non-null object\n",
      "metformin-rosiglitazone     101766 non-null object\n",
      "metformin-pioglitazone      101766 non-null object\n",
      "change                      101766 non-null object\n",
      "diabetesMed                 101766 non-null object\n",
      "readmitted                  101766 non-null object\n",
      "dtypes: int64(13), object(37)\n",
      "memory usage: 38.8+ MB\n"
     ]
    }
   ],
   "source": [
    "#take a look at the features datatype\n",
    "df.info()"
   ]
  },
  {
   "cell_type": "markdown",
   "metadata": {},
   "source": [
    "## EDA"
   ]
  },
  {
   "cell_type": "markdown",
   "metadata": {},
   "source": [
    "### Output variable"
   ]
  },
  {
   "cell_type": "markdown",
   "metadata": {},
   "source": [
    "Here the output variable is the readmitted column"
   ]
  },
  {
   "cell_type": "code",
   "execution_count": 11,
   "metadata": {},
   "outputs": [],
   "source": [
    "#function to summarize feature\n",
    "def summarize_feature(dataframe,feature):\n",
    "    feature_summary = {'values':dataframe[feature].value_counts().index.tolist(),\n",
    "                     'counts':dataframe[feature].value_counts().values.tolist(),\n",
    "                     'frequency': dataframe[feature].value_counts(normalize = True).values.tolist()}\n",
    "    feature_summary = pd.DataFrame(feature_summary)\n",
    "    return feature_summary\n"
   ]
  },
  {
   "cell_type": "code",
   "execution_count": 12,
   "metadata": {},
   "outputs": [
    {
     "name": "stdout",
     "output_type": "stream",
     "text": [
      "\n",
      "**********readmitted original**********\n",
      "  values  counts  frequency\n",
      "0     NO   54864   0.539119\n",
      "1    >30   35545   0.349282\n",
      "2    <30   11357   0.111599\n",
      "\n",
      "**********readmitted cleaned**********\n",
      "   values  counts  frequency\n",
      "0       0   90409   0.888401\n",
      "1       1   11357   0.111599\n"
     ]
    }
   ],
   "source": [
    "print('\\n'+'*'*10 +'readmitted original'+'*'*10)\n",
    "print(summarize_feature(df, 'readmitted'))\n",
    "\n",
    "#replace target variable with numerical value\n",
    "df['readmitted'] = df['readmitted'].replace('<30', 1)\n",
    "df['readmitted'] = df['readmitted'].replace('>30', 0)\n",
    "df['readmitted'] = df['readmitted'].replace('NO', 0)\n",
    "\n",
    "print('\\n'+'*'*10 +'readmitted cleaned'+'*'*10)\n",
    "print(summarize_feature(df, 'readmitted'))\n",
    "\n",
    "## Check if Kevin has the graph\n"
   ]
  },
  {
   "cell_type": "markdown",
   "metadata": {},
   "source": [
    "## Featuring Engineering"
   ]
  },
  {
   "cell_type": "markdown",
   "metadata": {},
   "source": [
    "Here we will look at all the inputs"
   ]
  },
  {
   "cell_type": "markdown",
   "metadata": {},
   "source": [
    "### Numerical Features"
   ]
  },
  {
   "cell_type": "markdown",
   "metadata": {},
   "source": [
    "Numerical features are usually useable as is, no need for further modification."
   ]
  },
  {
   "cell_type": "code",
   "execution_count": 13,
   "metadata": {
    "scrolled": false
   },
   "outputs": [
    {
     "data": {
      "text/plain": [
       "['encounter_id',\n",
       " 'patient_nbr',\n",
       " 'admission_type_id',\n",
       " 'discharge_disposition_id',\n",
       " 'admission_source_id',\n",
       " 'time_in_hospital',\n",
       " 'num_lab_procedures',\n",
       " 'num_procedures',\n",
       " 'num_medications',\n",
       " 'number_outpatient',\n",
       " 'number_emergency',\n",
       " 'number_inpatient',\n",
       " 'number_diagnoses',\n",
       " 'readmitted']"
      ]
     },
     "execution_count": 13,
     "metadata": {},
     "output_type": "execute_result"
    }
   ],
   "source": [
    "df.select_dtypes(include=['int64']).columns.tolist()"
   ]
  },
  {
   "cell_type": "code",
   "execution_count": 14,
   "metadata": {},
   "outputs": [],
   "source": [
    "#converting all categorical numbers to str\n",
    "\n",
    "df[['encounter_id','patient_nbr', 'admission_type_id','discharge_disposition_id', 'admission_source_id',]] = df[['encounter_id','patient_nbr', 'admission_type_id',\n",
    "       'discharge_disposition_id', 'admission_source_id',]].astype(str)\n",
    "      "
   ]
  },
  {
   "cell_type": "code",
   "execution_count": 15,
   "metadata": {},
   "outputs": [],
   "source": [
    "#this is a list of all the numerical features\n",
    "numeric_cols = [\n",
    " 'time_in_hospital',\n",
    " 'num_lab_procedures',\n",
    " 'num_procedures',\n",
    " 'num_medications',\n",
    " 'number_outpatient',\n",
    " 'number_emergency',\n",
    " 'number_inpatient',\n",
    " 'number_diagnoses']"
   ]
  },
  {
   "cell_type": "markdown",
   "metadata": {},
   "source": [
    "### Categorical Features"
   ]
  },
  {
   "cell_type": "code",
   "execution_count": 16,
   "metadata": {},
   "outputs": [
    {
     "data": {
      "text/plain": [
       "['encounter_id',\n",
       " 'patient_nbr',\n",
       " 'race',\n",
       " 'gender',\n",
       " 'age',\n",
       " 'weight',\n",
       " 'admission_type_id',\n",
       " 'discharge_disposition_id',\n",
       " 'admission_source_id',\n",
       " 'payer_code',\n",
       " 'medical_specialty',\n",
       " 'diag_1',\n",
       " 'diag_2',\n",
       " 'diag_3',\n",
       " 'max_glu_serum',\n",
       " 'A1Cresult',\n",
       " 'metformin',\n",
       " 'repaglinide',\n",
       " 'nateglinide',\n",
       " 'chlorpropamide',\n",
       " 'glimepiride',\n",
       " 'acetohexamide',\n",
       " 'glipizide',\n",
       " 'glyburide',\n",
       " 'tolbutamide',\n",
       " 'pioglitazone',\n",
       " 'rosiglitazone',\n",
       " 'acarbose',\n",
       " 'miglitol',\n",
       " 'troglitazone',\n",
       " 'tolazamide',\n",
       " 'examide',\n",
       " 'citoglipton',\n",
       " 'insulin',\n",
       " 'glyburide-metformin',\n",
       " 'glipizide-metformin',\n",
       " 'glimepiride-pioglitazone',\n",
       " 'metformin-rosiglitazone',\n",
       " 'metformin-pioglitazone',\n",
       " 'change',\n",
       " 'diabetesMed']"
      ]
     },
     "execution_count": 16,
     "metadata": {},
     "output_type": "execute_result"
    }
   ],
   "source": [
    "df.select_dtypes(include=['object']).columns.tolist()"
   ]
  },
  {
   "cell_type": "code",
   "execution_count": 17,
   "metadata": {},
   "outputs": [
    {
     "name": "stdout",
     "output_type": "stream",
     "text": [
      "\n",
      "**********race original**********\n",
      "            values  counts  frequency\n",
      "0        Caucasian   76099   0.747784\n",
      "1  AfricanAmerican   19210   0.188766\n",
      "2                ?    2273   0.022336\n",
      "3         Hispanic    2037   0.020017\n",
      "4            Other    1506   0.014799\n",
      "5            Asian     641   0.006299\n",
      "\n",
      "**********race cleaned**********\n",
      "            values  counts  frequency\n",
      "0        Caucasian   76099   0.747784\n",
      "1  AfricanAmerican   19210   0.188766\n",
      "2          unknown    2273   0.022336\n",
      "3         Hispanic    2037   0.020017\n",
      "4            Other    1506   0.014799\n",
      "5            Asian     641   0.006299\n"
     ]
    }
   ],
   "source": [
    "print('\\n'+'*'*10 +'race original'+'*'*10)\n",
    "print(summarize_feature(df, 'race'))\n",
    "\n",
    "#replace ? with unknown\n",
    "df.race = df.race.replace({'?':'unknown'})\n",
    "\n",
    "print('\\n'+'*'*10 +'race cleaned'+'*'*10)\n",
    "print(summarize_feature(df, 'race'))\n"
   ]
  },
  {
   "cell_type": "code",
   "execution_count": 18,
   "metadata": {},
   "outputs": [
    {
     "name": "stdout",
     "output_type": "stream",
     "text": [
      "\n",
      "**********gender original**********\n",
      "            values  counts  frequency\n",
      "0           Female   54708   0.537586\n",
      "1             Male   47055   0.462384\n",
      "2  Unknown/Invalid       3   0.000029\n",
      "\n",
      "**********gender cleaned**********\n",
      "   values  counts  frequency\n",
      "0  Female   54708   0.537602\n",
      "1    Male   47055   0.462398\n"
     ]
    }
   ],
   "source": [
    "print('\\n'+'*'*10 +'gender original'+'*'*10)\n",
    "print(summarize_feature(df, 'gender'))\n",
    "\n",
    "#only 3 unknown/invalid, drop rows\n",
    "df = df[df.gender != 'Unknown/Invalid']\n",
    "\n",
    "print('\\n'+'*'*10 +'gender cleaned'+'*'*10)\n",
    "print(summarize_feature(df, 'gender'))\n"
   ]
  },
  {
   "cell_type": "code",
   "execution_count": 19,
   "metadata": {},
   "outputs": [
    {
     "name": "stdout",
     "output_type": "stream",
     "text": [
      "\n",
      "**********age original**********\n",
      "     values  counts  frequency\n",
      "0   [70-80)   26066   0.256144\n",
      "1   [60-70)   22482   0.220925\n",
      "2   [50-60)   17256   0.169570\n",
      "3   [80-90)   17197   0.168991\n",
      "4   [40-50)    9685   0.095172\n",
      "5   [30-40)    3775   0.037096\n",
      "6  [90-100)    2793   0.027446\n",
      "7   [20-30)    1657   0.016283\n",
      "8   [10-20)     691   0.006790\n",
      "9    [0-10)     161   0.001582\n",
      "\n",
      "**********age converted**********\n",
      "   values  counts  frequency\n",
      "0      75   26066   0.256144\n",
      "1      65   22482   0.220925\n",
      "2      55   17256   0.169570\n",
      "3      85   17197   0.168991\n",
      "4      45    9685   0.095172\n",
      "5      35    3775   0.037096\n",
      "6      95    2793   0.027446\n",
      "7      25    1657   0.016283\n",
      "8      15     691   0.006790\n",
      "9       5     161   0.001582\n"
     ]
    }
   ],
   "source": [
    "print('\\n'+'*'*10 +'age original'+'*'*10)\n",
    "print(summarize_feature(df, 'age'))\n",
    "\n",
    "#convert age feature\n",
    "dict_age = {'[60-70)': 65, \n",
    "            '[40-50)': 45, \n",
    "            '[80-90)': 85,\n",
    "               '[70-80)':75,\n",
    "               '[50-60)':55,\n",
    "               '[20-30)':25,\n",
    "               '[90-100)':95,\n",
    "               '[30-40)':35,\n",
    "               '[0-10)':5,\n",
    "               '[10-20)':15}\n",
    "df.age.replace(dict_age, inplace=True)\n",
    "\n",
    "print('\\n'+'*'*10 +'age converted'+'*'*10)\n",
    "print(summarize_feature(df, 'age'))\n"
   ]
  },
  {
   "cell_type": "code",
   "execution_count": 20,
   "metadata": {},
   "outputs": [
    {
     "name": "stdout",
     "output_type": "stream",
     "text": [
      "\n",
      "**********weight original**********\n",
      "      values  counts  frequency\n",
      "0          ?   98566   0.968584\n",
      "1   [75-100)    1336   0.013129\n",
      "2    [50-75)     897   0.008815\n",
      "3  [100-125)     625   0.006142\n",
      "4  [125-150)     145   0.001425\n",
      "5    [25-50)      97   0.000953\n",
      "6     [0-25)      48   0.000472\n",
      "7  [150-175)      35   0.000344\n",
      "8  [175-200)      11   0.000108\n",
      "9       >200       3   0.000029\n",
      "\n",
      "**********weight cleaned**********\n",
      "Feature does not exist\n"
     ]
    }
   ],
   "source": [
    "print('\\n'+'*'*10 +'weight original'+'*'*10)\n",
    "print(summarize_feature(df, 'weight'))\n",
    "\n",
    "#missing a lot of data, drop column\n",
    "df = df.drop(['weight'], axis = 1)\n",
    "\n",
    "print('\\n'+'*'*10 +'weight cleaned'+'*'*10)\n",
    "try:\n",
    "    print(summarize_feature(df, 'weight'))\n",
    "except:\n",
    "    print('Feature does not exist')\n"
   ]
  },
  {
   "cell_type": "code",
   "execution_count": 21,
   "metadata": {},
   "outputs": [
    {
     "name": "stdout",
     "output_type": "stream",
     "text": [
      "\n",
      "**********admission_type_id original**********\n",
      "  values  counts  frequency\n",
      "0      1   53988   0.530527\n",
      "1      3   18868   0.185411\n",
      "2      2   18480   0.181598\n",
      "3      6    5291   0.051993\n",
      "4      5    4785   0.047021\n",
      "5      8     320   0.003145\n",
      "6      7      21   0.000206\n",
      "7      4      10   0.000098\n",
      "\n",
      "**********admission_type_id cleaned**********\n",
      "     values  counts  frequency\n",
      "0    urgent   72489   0.712332\n",
      "1  elective   18868   0.185411\n",
      "2        na   10396   0.102159\n",
      "3   newborn      10   0.000098\n"
     ]
    }
   ],
   "source": [
    "print('\\n'+'*'*10 +'admission_type_id original'+'*'*10)\n",
    "print(summarize_feature(df, 'admission_type_id'))\n",
    "\n",
    "#urgent is used to replace 1,2, and 7 from IDs_mappings\n",
    "dict_admission_type = {'1': 'urgent', \n",
    "            '2':'urgent', \n",
    "            '3':'elective',\n",
    "               '4':'newborn',\n",
    "               '5':'na',\n",
    "               '6':'na',\n",
    "               '7':'urgent',\n",
    "               '8':'na'}\n",
    "df.admission_type_id.replace(dict_admission_type, inplace=True)\n",
    "\n",
    "print('\\n'+'*'*10 +'admission_type_id cleaned'+'*'*10)\n",
    "try:\n",
    "    print(summarize_feature(df, 'admission_type_id'))\n",
    "except:\n",
    "    print('Feature does not exist')\n"
   ]
  },
  {
   "cell_type": "code",
   "execution_count": 22,
   "metadata": {},
   "outputs": [
    {
     "name": "stdout",
     "output_type": "stream",
     "text": [
      "\n",
      "**********discharge_disposition_id original**********\n",
      "   values  counts  frequency\n",
      "0       1   60232   0.591885\n",
      "1       3   13954   0.137123\n",
      "2       6   12902   0.126785\n",
      "3      18    3691   0.036271\n",
      "4       2    2128   0.020911\n",
      "5      22    1992   0.019575\n",
      "6      11    1642   0.016136\n",
      "7       5    1184   0.011635\n",
      "8      25     989   0.009719\n",
      "9       4     815   0.008009\n",
      "10      7     623   0.006122\n",
      "11     23     412   0.004049\n",
      "12     13     399   0.003921\n",
      "13     14     372   0.003656\n",
      "14     28     139   0.001366\n",
      "15      8     108   0.001061\n",
      "16     15      63   0.000619\n",
      "17     24      48   0.000472\n",
      "18      9      21   0.000206\n",
      "19     17      14   0.000138\n",
      "20     16      11   0.000108\n",
      "21     19       8   0.000079\n",
      "22     10       6   0.000059\n",
      "23     27       5   0.000049\n",
      "24     12       3   0.000029\n",
      "25     20       2   0.000020\n",
      "\n",
      "**********discharge_disposition_id cleaned**********\n",
      "     values  counts  frequency\n",
      "0      home   73134   0.736199\n",
      "1  assisted   15299   0.154006\n",
      "2  hospital    5604   0.056412\n",
      "3        na    5303   0.053382\n"
     ]
    }
   ],
   "source": [
    "print('\\n'+'*'*10 +'discharge_disposition_id original'+'*'*10)\n",
    "print(summarize_feature(df, 'discharge_disposition_id'))\n",
    "\n",
    "#11, 13, 14, 19, 20, 21 are patients who are expired so no re-admission possible, drop these rows\n",
    "expired_list = ['11','13','14','19','20','21']\n",
    "df = df[~df.discharge_disposition_id.isin(expired_list)]\n",
    "\n",
    "dict_discharge_disposition_id = {\n",
    "    '1':'home', \n",
    "    '2':'hospital', \n",
    "    '3':'assisted',\n",
    "    '4':'hospital',\n",
    "    '5':'assisted',\n",
    "    '6':'home',\n",
    "    '7':'na',\n",
    "    '8':'assisted',\n",
    "    '9':'hospital',\n",
    "    '10':'hospital',\n",
    "    '12':'hospital',\n",
    "    '15':'hospital',\n",
    "    '16':'hospital',\n",
    "    '17':'hospital',\n",
    "    '18':'na',\n",
    "    '22':'hospital',\n",
    "    '23':'hospital',\n",
    "    '24':'assisted',\n",
    "    '25':'na',\n",
    "    '26':'na',\n",
    "    '30':'assisted',\n",
    "    '27':'assisted',\n",
    "    '28':'hospital',\n",
    "    '29':'hospital',}\n",
    "#amongst the discharge ID, they are broadly categorized into home, assisted (nursing home, homecare aid), another hospital, or NA\n",
    "df.discharge_disposition_id.replace(dict_discharge_disposition_id, inplace=True)\n",
    "\n",
    "print('\\n'+'*'*10 +'discharge_disposition_id cleaned'+'*'*10)\n",
    "try:\n",
    "    print(summarize_feature(df, 'discharge_disposition_id'))\n",
    "except:\n",
    "    print('Feature does not exist')\n"
   ]
  },
  {
   "cell_type": "code",
   "execution_count": 23,
   "metadata": {},
   "outputs": [
    {
     "name": "stdout",
     "output_type": "stream",
     "text": [
      "\n",
      "**********admission_source_id original**********\n",
      "   values  counts  frequency\n",
      "0       7   55848   0.562190\n",
      "1       1   29167   0.293608\n",
      "2      17    6570   0.066137\n",
      "3       4    3118   0.031387\n",
      "4       6    2239   0.022539\n",
      "5       2    1081   0.010882\n",
      "6       5     806   0.008114\n",
      "7       3     185   0.001862\n",
      "8      20     159   0.001601\n",
      "9       9     125   0.001258\n",
      "10      8      15   0.000151\n",
      "11     22      12   0.000121\n",
      "12     10       8   0.000081\n",
      "13     14       2   0.000020\n",
      "14     25       2   0.000020\n",
      "15     11       2   0.000020\n",
      "16     13       1   0.000010\n",
      "\n",
      "**********admission_source_id cleaned**********\n",
      "     values  counts  frequency\n",
      "0    urgent   55848   0.562190\n",
      "1  referral   30433   0.306352\n",
      "2     other    6869   0.069146\n",
      "3  transfer    6185   0.062261\n",
      "4     birth       5   0.000050\n"
     ]
    }
   ],
   "source": [
    "print('\\n'+'*'*10 +'admission_source_id original'+'*'*10)\n",
    "print(summarize_feature(df, 'admission_source_id'))\n",
    "\n",
    "dict_admission_source_id = {\n",
    "    '1':'referral', \n",
    "    '2':'referral', \n",
    "    '3':'referral',\n",
    "    '4':'transfer',\n",
    "    '5':'transfer',\n",
    "    '6':'transfer',\n",
    "    '7':'urgent',\n",
    "    '8':'other',\n",
    "    '9':'other',\n",
    "    '10':'transfer',\n",
    "    '11':'birth',\n",
    "    '12':'birth',\n",
    "    '13':'birth',\n",
    "    '14':'birth',\n",
    "    '15':'birth',\n",
    "    '17':'other',\n",
    "    '18':'transfer',\n",
    "    '19':'transfer',\n",
    "    '20':'other',\n",
    "    '21':'other',\n",
    "    '22':'transfer',\n",
    "    '23':'birth',\n",
    "    '24':'birth',\n",
    "    '25':'transfer',\n",
    "    '26':'transfer'}\n",
    "\n",
    "#amongst the admission_source_id , they are broadly categorized\n",
    "df.admission_source_id.replace(dict_admission_source_id, inplace=True)\n",
    "\n",
    "print('\\n'+'*'*10 +'admission_source_id cleaned'+'*'*10)\n",
    "try:\n",
    "    print(summarize_feature(df, 'admission_source_id'))\n",
    "except:\n",
    "    print('Feature does not exist')\n",
    "\n"
   ]
  },
  {
   "cell_type": "code",
   "execution_count": 24,
   "metadata": {},
   "outputs": [],
   "source": [
    "summarize_feature(df, 'payer_code')\n",
    "#missing a lot of data, drop column\n",
    "df = df.drop(['payer_code'], axis = 1)\n"
   ]
  },
  {
   "cell_type": "code",
   "execution_count": 25,
   "metadata": {},
   "outputs": [],
   "source": [
    "summarize_feature(df, 'medical_specialty')\n",
    "#missing a lot of data, drop column\n",
    "df = df.drop(['medical_specialty'], axis = 1)\n"
   ]
  },
  {
   "cell_type": "code",
   "execution_count": 26,
   "metadata": {},
   "outputs": [
    {
     "name": "stdout",
     "output_type": "stream",
     "text": [
      "\n",
      "**********diag_1 original**********\n",
      "     values  counts  frequency\n",
      "0       428    6663   0.067073\n",
      "1       414    6549   0.065925\n",
      "2       786    4015   0.040417\n",
      "3       410    3448   0.034709\n",
      "4       486    3383   0.034055\n",
      "5       427    2720   0.027381\n",
      "6       491    2240   0.022549\n",
      "7       715    2147   0.021613\n",
      "8       682    2029   0.020425\n",
      "9       780    2004   0.020173\n",
      "10      996    1937   0.019499\n",
      "11      434    1930   0.019428\n",
      "12      276    1839   0.018512\n",
      "13    250.8    1655   0.016660\n",
      "14      599    1564   0.015744\n",
      "15       38    1497   0.015069\n",
      "16      584    1450   0.014596\n",
      "17      V57    1200   0.012080\n",
      "18    250.6    1177   0.011848\n",
      "19      820    1069   0.010761\n",
      "20      493    1054   0.010610\n",
      "21      577    1045   0.010519\n",
      "22      435    1014   0.010207\n",
      "23      562     985   0.009915\n",
      "24      574     961   0.009674\n",
      "25      518     947   0.009533\n",
      "26      296     895   0.009009\n",
      "27      560     861   0.008667\n",
      "28    250.7     854   0.008597\n",
      "29   250.13     849   0.008546\n",
      "..      ...     ...        ...\n",
      "686     870       1   0.000010\n",
      "687     318       1   0.000010\n",
      "688    E909       1   0.000010\n",
      "689     V51       1   0.000010\n",
      "690     325       1   0.000010\n",
      "691     207       1   0.000010\n",
      "692     143       1   0.000010\n",
      "693     837       1   0.000010\n",
      "694     314       1   0.000010\n",
      "695     827       1   0.000010\n",
      "696     299       1   0.000010\n",
      "697     939       1   0.000010\n",
      "698     885       1   0.000010\n",
      "699     839       1   0.000010\n",
      "700     V60       1   0.000010\n",
      "701     832       1   0.000010\n",
      "702  250.51       1   0.000010\n",
      "703     543       1   0.000010\n",
      "704     219       1   0.000010\n",
      "705      98       1   0.000010\n",
      "706     698       1   0.000010\n",
      "707     915       1   0.000010\n",
      "708     637       1   0.000010\n",
      "709     145       1   0.000010\n",
      "710     817       1   0.000010\n",
      "711     217       1   0.000010\n",
      "712     833       1   0.000010\n",
      "713      61       1   0.000010\n",
      "714     412       1   0.000010\n",
      "715     V07       1   0.000010\n",
      "\n",
      "[716 rows x 3 columns]\n",
      "\n",
      "**********diag_1 cleaned**********\n",
      "            values  counts  frequency\n",
      "0      circulatory   29680   0.298772\n",
      "1      respiratory   13934   0.140266\n",
      "2        neoplasms   10883   0.109553\n",
      "3            other   10041   0.101077\n",
      "4        digestive    9333   0.093950\n",
      "5         diabetes    8661   0.087185\n",
      "6           injury    6851   0.068965\n",
      "7    genitourinary    5002   0.050352\n",
      "8  musculoskeletal    4935   0.049678\n",
      "9                ?      20   0.000201\n"
     ]
    }
   ],
   "source": [
    "print('\\n'+'*'*10 +'diag_1 original'+'*'*10)\n",
    "print(summarize_feature(df, 'diag_1'))\n",
    "\n",
    "def code_to_category(icd9code):\n",
    "    try:\n",
    "        icd9code = float(icd9code)\n",
    "        if (icd9code >= 390 and icd9code < 460) or icd9code == 785:\n",
    "            return 'circulatory'\n",
    "        if (icd9code >= 460 and icd9code < 520) or icd9code == 786:\n",
    "            return 'respiratory'\n",
    "        if (icd9code >= 520 and icd9code < 580) or icd9code == 787:\n",
    "            return 'digestive'\n",
    "        if (icd9code >= 250 and icd9code < 251):\n",
    "            return 'diabetes'\n",
    "        if (icd9code >= 800 and icd9code < 1000):\n",
    "            return 'injury'\n",
    "        if (icd9code >= 710 and icd9code < 740):\n",
    "            return 'musculoskeletal'\n",
    "        if (icd9code >= 580 and icd9code < 630) or icd9code == 788:\n",
    "            return 'genitourinary'\n",
    "        if (icd9code >= 140 and icd9code < 240) or icd9code == 780 or icd9code == 781 or icd9code == 784 or (icd9code >= 790 and icd9code < 800):\n",
    "            return 'neoplasms'\n",
    "        if (icd9code >= 240 and icd9code < 250) or (icd9code >= 251 and icd9code < 280) or (icd9code >= 680 and icd9code < 710) or icd9code == 782:\n",
    "            return 'neoplasms'\n",
    "        else:\n",
    "            return 'other'\n",
    "    except:\n",
    "        if (icd9code == '?'):\n",
    "            return '?'\n",
    "        return 'other'\n",
    "    \n",
    "    \n",
    "#convert the diag to categorical based on icd codes\n",
    "df.diag_1 = [code_to_category(x) for x in df['diag_1']]\n",
    "# df.diag_2 = [code_to_category(x) for x in df['diag_2']]\n",
    "# df.diag_3 = [code_to_category(x) for x in df['diag_3']]\n",
    "\n",
    "df = df.drop(['diag_2','diag_3'], axis = 1)\n",
    "\n",
    "print('\\n'+'*'*10 +'diag_1 cleaned'+'*'*10)\n",
    "try:\n",
    "    print(summarize_feature(df, 'diag_1'))\n",
    "except:\n",
    "    print('Feature does not exist')\n"
   ]
  },
  {
   "cell_type": "code",
   "execution_count": 27,
   "metadata": {},
   "outputs": [],
   "source": [
    "#here we want to note any changes in the dosage of medicine.\n",
    "keys = ['metformin', 'repaglinide', 'nateglinide', 'chlorpropamide', 'glimepiride', 'glipizide', 'glyburide', 'pioglitazone', 'rosiglitazone', 'acarbose', 'miglitol', 'insulin', 'glyburide-metformin', 'tolazamide', 'metformin-pioglitazone','metformin-rosiglitazone', 'glimepiride-pioglitazone', 'glipizide-metformin', 'troglitazone', 'tolbutamide', 'acetohexamide']\n",
    "for col in keys:\n",
    "    colname = str(col) + 'temp'\n",
    "    df[colname] = df[col].apply(lambda x: 0 if (x == 'No' or x == 'Steady') else 1)\n",
    "df['med_dosage_change'] = 0\n",
    "for col in keys:\n",
    "    colname = str(col) + 'temp'\n",
    "    df['med_dosage_change'] = df['med_dosage_change'] + df[colname]\n",
    "    del df[colname]\n",
    "#here 0 means no changes in doses of medicine, >0 means there is increase or decrease in dosage\n"
   ]
  },
  {
   "cell_type": "code",
   "execution_count": 28,
   "metadata": {},
   "outputs": [],
   "source": [
    "df['number_of_medicine'] = 0\n",
    "for col in keys:\n",
    "    df['number_of_medicine'] = df['number_of_medicine'] + df[col].apply(lambda x: 0 if (x == 'No') else 1)\n",
    "#new column to account for the total number of medicine patient is taking\n"
   ]
  },
  {
   "cell_type": "code",
   "execution_count": 29,
   "metadata": {},
   "outputs": [],
   "source": [
    "#these 2 drugs were all 'no', so drop them\n",
    "df = df.drop(['examide', 'citoglipton'], axis = 1)\n"
   ]
  },
  {
   "cell_type": "markdown",
   "metadata": {},
   "source": [
    "## Missing Values"
   ]
  },
  {
   "cell_type": "code",
   "execution_count": 30,
   "metadata": {},
   "outputs": [
    {
     "data": {
      "text/plain": [
       "number_of_medicine    0\n",
       "nateglinide           0\n",
       "metformin             0\n",
       "A1Cresult             0\n",
       "max_glu_serum         0\n",
       "number_diagnoses      0\n",
       "diag_1                0\n",
       "number_inpatient      0\n",
       "number_emergency      0\n",
       "number_outpatient     0\n",
       "dtype: int64"
      ]
     },
     "execution_count": 30,
     "metadata": {},
     "output_type": "execute_result"
    }
   ],
   "source": [
    "df = df.replace('?', np.nan)\n",
    "#saw in dataset missing value or unknown has '?', will replace with nan\n",
    "df.isnull().sum().sort_values(ascending=False).head(10)\n",
    "#list col with missing values\n",
    "#diag_2 and diag_3 missing are okay, since diag_1 is present, replace missing with value in diag_1\n",
    "\n",
    "#drop missing diag_1\n",
    "df = df.dropna(subset=['diag_1'])\n",
    "\n",
    "df.isnull().sum().sort_values(ascending=False).head(10)\n"
   ]
  },
  {
   "cell_type": "code",
   "execution_count": 31,
   "metadata": {},
   "outputs": [
    {
     "name": "stdout",
     "output_type": "stream",
     "text": [
      "<class 'pandas.core.frame.DataFrame'>\n",
      "Int64Index: 99320 entries, 0 to 101765\n",
      "Data columns (total 45 columns):\n",
      "encounter_id                99320 non-null object\n",
      "patient_nbr                 99320 non-null object\n",
      "race                        99320 non-null object\n",
      "gender                      99320 non-null object\n",
      "age                         99320 non-null int64\n",
      "admission_type_id           99320 non-null object\n",
      "discharge_disposition_id    99320 non-null object\n",
      "admission_source_id         99320 non-null object\n",
      "time_in_hospital            99320 non-null int64\n",
      "num_lab_procedures          99320 non-null int64\n",
      "num_procedures              99320 non-null int64\n",
      "num_medications             99320 non-null int64\n",
      "number_outpatient           99320 non-null int64\n",
      "number_emergency            99320 non-null int64\n",
      "number_inpatient            99320 non-null int64\n",
      "diag_1                      99320 non-null object\n",
      "number_diagnoses            99320 non-null int64\n",
      "max_glu_serum               99320 non-null object\n",
      "A1Cresult                   99320 non-null object\n",
      "metformin                   99320 non-null object\n",
      "repaglinide                 99320 non-null object\n",
      "nateglinide                 99320 non-null object\n",
      "chlorpropamide              99320 non-null object\n",
      "glimepiride                 99320 non-null object\n",
      "acetohexamide               99320 non-null object\n",
      "glipizide                   99320 non-null object\n",
      "glyburide                   99320 non-null object\n",
      "tolbutamide                 99320 non-null object\n",
      "pioglitazone                99320 non-null object\n",
      "rosiglitazone               99320 non-null object\n",
      "acarbose                    99320 non-null object\n",
      "miglitol                    99320 non-null object\n",
      "troglitazone                99320 non-null object\n",
      "tolazamide                  99320 non-null object\n",
      "insulin                     99320 non-null object\n",
      "glyburide-metformin         99320 non-null object\n",
      "glipizide-metformin         99320 non-null object\n",
      "glimepiride-pioglitazone    99320 non-null object\n",
      "metformin-rosiglitazone     99320 non-null object\n",
      "metformin-pioglitazone      99320 non-null object\n",
      "change                      99320 non-null object\n",
      "diabetesMed                 99320 non-null object\n",
      "readmitted                  99320 non-null int64\n",
      "med_dosage_change           99320 non-null int64\n",
      "number_of_medicine          99320 non-null int64\n",
      "dtypes: int64(12), object(33)\n",
      "memory usage: 34.9+ MB\n"
     ]
    }
   ],
   "source": [
    "df.info()"
   ]
  },
  {
   "cell_type": "code",
   "execution_count": 32,
   "metadata": {},
   "outputs": [
    {
     "data": {
      "text/plain": [
       "(99320, 45)"
      ]
     },
     "execution_count": 32,
     "metadata": {},
     "output_type": "execute_result"
    }
   ],
   "source": [
    "df.shape"
   ]
  },
  {
   "cell_type": "markdown",
   "metadata": {},
   "source": [
    "dummifying categorical features"
   ]
  },
  {
   "cell_type": "code",
   "execution_count": 33,
   "metadata": {},
   "outputs": [],
   "source": [
    "df.select_dtypes(include=['object']).columns.tolist()\n",
    "\n",
    "cat_cols = [\n",
    " 'race',\n",
    " 'gender',\n",
    " 'admission_type_id',\n",
    " 'discharge_disposition_id',\n",
    " 'admission_source_id',\n",
    " 'diag_1',\n",
    " 'max_glu_serum',\n",
    " 'A1Cresult',\n",
    " 'metformin',\n",
    " 'repaglinide',\n",
    " 'nateglinide',\n",
    " 'chlorpropamide',\n",
    " 'glimepiride',\n",
    " 'acetohexamide',\n",
    " 'glipizide',\n",
    " 'glyburide',\n",
    " 'tolbutamide',\n",
    " 'pioglitazone',\n",
    " 'rosiglitazone',\n",
    " 'acarbose',\n",
    " 'miglitol',\n",
    " 'troglitazone',\n",
    " 'tolazamide',\n",
    " 'insulin',\n",
    " 'glyburide-metformin',\n",
    " 'glipizide-metformin',\n",
    " 'glimepiride-pioglitazone',\n",
    " 'metformin-rosiglitazone',\n",
    " 'metformin-pioglitazone',\n",
    " 'change',\n",
    " 'diabetesMed']"
   ]
  },
  {
   "cell_type": "code",
   "execution_count": 34,
   "metadata": {},
   "outputs": [],
   "source": [
    "#dummify categorical columns\n",
    "\n",
    "\n",
    "\n",
    "df_dummified = pd.get_dummies(df, columns=[\n",
    " 'race',\n",
    " 'gender',\n",
    " 'admission_type_id',\n",
    " 'discharge_disposition_id',\n",
    " 'admission_source_id',\n",
    " 'diag_1',\n",
    " 'max_glu_serum',\n",
    " 'A1Cresult',\n",
    " 'metformin',\n",
    " 'repaglinide',\n",
    " 'nateglinide',\n",
    " 'chlorpropamide',\n",
    " 'glimepiride',\n",
    " 'acetohexamide',\n",
    " 'glipizide',\n",
    " 'glyburide',\n",
    " 'tolbutamide',\n",
    " 'pioglitazone',\n",
    " 'rosiglitazone',\n",
    " 'acarbose',\n",
    " 'miglitol',\n",
    " 'troglitazone',\n",
    " 'tolazamide',\n",
    " 'insulin',\n",
    " 'glyburide-metformin',\n",
    " 'glipizide-metformin',\n",
    " 'glimepiride-pioglitazone',\n",
    " 'metformin-rosiglitazone',\n",
    " 'metformin-pioglitazone',\n",
    " 'change',\n",
    " 'diabetesMed'],drop_first = True)\n",
    "\n",
    "#drop_first will drop the first column, meaning if there are 3 categorical, dummy will only make 2. if 0 for both, it will be the 3rd"
   ]
  },
  {
   "cell_type": "code",
   "execution_count": 35,
   "metadata": {},
   "outputs": [
    {
     "data": {
      "text/plain": [
       "(99320, 94)"
      ]
     },
     "execution_count": 35,
     "metadata": {},
     "output_type": "execute_result"
    }
   ],
   "source": [
    "df_dummified.shape"
   ]
  },
  {
   "cell_type": "code",
   "execution_count": 36,
   "metadata": {},
   "outputs": [
    {
     "data": {
      "text/plain": [
       "(99320, 94)"
      ]
     },
     "execution_count": 36,
     "metadata": {},
     "output_type": "execute_result"
    }
   ],
   "source": [
    "df_dummified.shape"
   ]
  },
  {
   "cell_type": "code",
   "execution_count": 37,
   "metadata": {},
   "outputs": [],
   "source": [
    "df_cleaned = df_dummified.copy(deep=True)\n"
   ]
  },
  {
   "cell_type": "code",
   "execution_count": 39,
   "metadata": {},
   "outputs": [],
   "source": [
    "#df_cleaned"
   ]
  },
  {
   "cell_type": "code",
   "execution_count": 40,
   "metadata": {},
   "outputs": [
    {
     "name": "stdout",
     "output_type": "stream",
     "text": [
      "<class 'pandas.core.frame.DataFrame'>\n",
      "Int64Index: 99320 entries, 0 to 101765\n",
      "Data columns (total 94 columns):\n",
      "encounter_id                         99320 non-null object\n",
      "patient_nbr                          99320 non-null object\n",
      "age                                  99320 non-null int64\n",
      "time_in_hospital                     99320 non-null int64\n",
      "num_lab_procedures                   99320 non-null int64\n",
      "num_procedures                       99320 non-null int64\n",
      "num_medications                      99320 non-null int64\n",
      "number_outpatient                    99320 non-null int64\n",
      "number_emergency                     99320 non-null int64\n",
      "number_inpatient                     99320 non-null int64\n",
      "number_diagnoses                     99320 non-null int64\n",
      "readmitted                           99320 non-null int64\n",
      "med_dosage_change                    99320 non-null int64\n",
      "number_of_medicine                   99320 non-null int64\n",
      "race_Asian                           99320 non-null uint8\n",
      "race_Caucasian                       99320 non-null uint8\n",
      "race_Hispanic                        99320 non-null uint8\n",
      "race_Other                           99320 non-null uint8\n",
      "race_unknown                         99320 non-null uint8\n",
      "gender_Male                          99320 non-null uint8\n",
      "admission_type_id_na                 99320 non-null uint8\n",
      "admission_type_id_newborn            99320 non-null uint8\n",
      "admission_type_id_urgent             99320 non-null uint8\n",
      "discharge_disposition_id_home        99320 non-null uint8\n",
      "discharge_disposition_id_hospital    99320 non-null uint8\n",
      "discharge_disposition_id_na          99320 non-null uint8\n",
      "admission_source_id_other            99320 non-null uint8\n",
      "admission_source_id_referral         99320 non-null uint8\n",
      "admission_source_id_transfer         99320 non-null uint8\n",
      "admission_source_id_urgent           99320 non-null uint8\n",
      "diag_1_diabetes                      99320 non-null uint8\n",
      "diag_1_digestive                     99320 non-null uint8\n",
      "diag_1_genitourinary                 99320 non-null uint8\n",
      "diag_1_injury                        99320 non-null uint8\n",
      "diag_1_musculoskeletal               99320 non-null uint8\n",
      "diag_1_neoplasms                     99320 non-null uint8\n",
      "diag_1_other                         99320 non-null uint8\n",
      "diag_1_respiratory                   99320 non-null uint8\n",
      "max_glu_serum_>300                   99320 non-null uint8\n",
      "max_glu_serum_None                   99320 non-null uint8\n",
      "max_glu_serum_Norm                   99320 non-null uint8\n",
      "A1Cresult_>8                         99320 non-null uint8\n",
      "A1Cresult_None                       99320 non-null uint8\n",
      "A1Cresult_Norm                       99320 non-null uint8\n",
      "metformin_No                         99320 non-null uint8\n",
      "metformin_Steady                     99320 non-null uint8\n",
      "metformin_Up                         99320 non-null uint8\n",
      "repaglinide_No                       99320 non-null uint8\n",
      "repaglinide_Steady                   99320 non-null uint8\n",
      "repaglinide_Up                       99320 non-null uint8\n",
      "nateglinide_No                       99320 non-null uint8\n",
      "nateglinide_Steady                   99320 non-null uint8\n",
      "nateglinide_Up                       99320 non-null uint8\n",
      "chlorpropamide_No                    99320 non-null uint8\n",
      "chlorpropamide_Steady                99320 non-null uint8\n",
      "chlorpropamide_Up                    99320 non-null uint8\n",
      "glimepiride_No                       99320 non-null uint8\n",
      "glimepiride_Steady                   99320 non-null uint8\n",
      "glimepiride_Up                       99320 non-null uint8\n",
      "acetohexamide_Steady                 99320 non-null uint8\n",
      "glipizide_No                         99320 non-null uint8\n",
      "glipizide_Steady                     99320 non-null uint8\n",
      "glipizide_Up                         99320 non-null uint8\n",
      "glyburide_No                         99320 non-null uint8\n",
      "glyburide_Steady                     99320 non-null uint8\n",
      "glyburide_Up                         99320 non-null uint8\n",
      "tolbutamide_Steady                   99320 non-null uint8\n",
      "pioglitazone_No                      99320 non-null uint8\n",
      "pioglitazone_Steady                  99320 non-null uint8\n",
      "pioglitazone_Up                      99320 non-null uint8\n",
      "rosiglitazone_No                     99320 non-null uint8\n",
      "rosiglitazone_Steady                 99320 non-null uint8\n",
      "rosiglitazone_Up                     99320 non-null uint8\n",
      "acarbose_No                          99320 non-null uint8\n",
      "acarbose_Steady                      99320 non-null uint8\n",
      "acarbose_Up                          99320 non-null uint8\n",
      "miglitol_No                          99320 non-null uint8\n",
      "miglitol_Steady                      99320 non-null uint8\n",
      "miglitol_Up                          99320 non-null uint8\n",
      "troglitazone_Steady                  99320 non-null uint8\n",
      "tolazamide_Steady                    99320 non-null uint8\n",
      "tolazamide_Up                        99320 non-null uint8\n",
      "insulin_No                           99320 non-null uint8\n",
      "insulin_Steady                       99320 non-null uint8\n",
      "insulin_Up                           99320 non-null uint8\n",
      "glyburide-metformin_No               99320 non-null uint8\n",
      "glyburide-metformin_Steady           99320 non-null uint8\n",
      "glyburide-metformin_Up               99320 non-null uint8\n",
      "glipizide-metformin_Steady           99320 non-null uint8\n",
      "glimepiride-pioglitazone_Steady      99320 non-null uint8\n",
      "metformin-rosiglitazone_Steady       99320 non-null uint8\n",
      "metformin-pioglitazone_Steady        99320 non-null uint8\n",
      "change_No                            99320 non-null uint8\n",
      "diabetesMed_Yes                      99320 non-null uint8\n",
      "dtypes: int64(12), object(2), uint8(80)\n",
      "memory usage: 18.9+ MB\n"
     ]
    }
   ],
   "source": [
    "df_cleaned.info()"
   ]
  },
  {
   "cell_type": "code",
   "execution_count": 42,
   "metadata": {},
   "outputs": [
    {
     "data": {
      "text/plain": [
       "['age',\n",
       " 'time_in_hospital',\n",
       " 'num_lab_procedures',\n",
       " 'num_procedures',\n",
       " 'num_medications',\n",
       " 'number_outpatient',\n",
       " 'number_emergency',\n",
       " 'number_inpatient',\n",
       " 'number_diagnoses',\n",
       " 'readmitted',\n",
       " 'med_dosage_change',\n",
       " 'number_of_medicine']"
      ]
     },
     "execution_count": 42,
     "metadata": {},
     "output_type": "execute_result"
    }
   ],
   "source": [
    "df_cleaned.select_dtypes(include = ['int64']).columns.tolist()"
   ]
  },
  {
   "cell_type": "markdown",
   "metadata": {},
   "source": [
    "#### Scaling"
   ]
  },
  {
   "cell_type": "code",
   "execution_count": 43,
   "metadata": {},
   "outputs": [],
   "source": [
    "listnormal = ['age','time_in_hospital', 'num_lab_procedures', 'num_procedures', 'num_medications',\n",
    "                     'number_outpatient', 'number_emergency', 'number_inpatient', 'number_diagnoses','number_of_medicine']\n",
    "from sklearn.preprocessing import StandardScaler\n",
    "normal = StandardScaler()\n",
    "df_cleaned[listnormal] = normal.fit_transform(df_cleaned[listnormal])"
   ]
  },
  {
   "cell_type": "markdown",
   "metadata": {},
   "source": [
    "### Creating 15, 20, 25, and 30 percent train test splits:"
   ]
  },
  {
   "cell_type": "markdown",
   "metadata": {},
   "source": [
    "**Execute cell immediately below FIRST BEFORE RUNNING A different SPLIT!!!!**"
   ]
  },
  {
   "cell_type": "code",
   "execution_count": 62,
   "metadata": {},
   "outputs": [],
   "source": [
    "#Execute FIRST!!!\n",
    "cleaned_df = df_cleaned.copy(deep=True)\n"
   ]
  },
  {
   "cell_type": "code",
   "execution_count": 42,
   "metadata": {},
   "outputs": [],
   "source": [
    "#cleaned_df.to_csv('dataset_diabetes/cleaned_df.csv')"
   ]
  },
  {
   "cell_type": "markdown",
   "metadata": {},
   "source": [
    "#**15 Percent split over all. Comment out once it is run**"
   ]
  },
  {
   "cell_type": "code",
   "execution_count": 45,
   "metadata": {},
   "outputs": [
    {
     "name": "stdout",
     "output_type": "stream",
     "text": [
      "(84422, 94)\n",
      "(14898, 94)\n"
     ]
    }
   ],
   "source": [
    "#15 train test split\n",
    "# train_cleaned_df, test_cleaned_df = train_test_split(cleaned_df, test_size=0.15, random_state=123)\n",
    "\n",
    "# print(train_cleaned_df.shape)\n",
    "# print(test_cleaned_df.shape)\n"
   ]
  },
  {
   "cell_type": "markdown",
   "metadata": {},
   "source": [
    "#**15 Percent split WHOLE. Comment out once it is run**"
   ]
  },
  {
   "cell_type": "code",
   "execution_count": 47,
   "metadata": {},
   "outputs": [],
   "source": [
    "#15 split whole\n",
    "\n",
    "# train_cleaned_df.to_csv('dataset_diabetes/experiment/15/whole_train_cleaned_15.csv', index=False)\n",
    "# test_cleaned_df.to_csv('dataset_diabetes/experiment/15/whole_test_cleaned_15_DONT_USE.csv', index=False)"
   ]
  },
  {
   "cell_type": "markdown",
   "metadata": {},
   "source": [
    "**Create UNIQUE 15**"
   ]
  },
  {
   "cell_type": "code",
   "execution_count": 49,
   "metadata": {},
   "outputs": [],
   "source": [
    "#Make unique versions\n",
    "\n",
    "# unique_train_cleaned_df = train_cleaned_df.drop_duplicates(subset= ['patient_nbr'], keep = 'first')\n",
    "# unique_test_cleaned_df = test_cleaned_df.drop_duplicates(subset= ['patient_nbr'], keep = 'first')"
   ]
  },
  {
   "cell_type": "code",
   "execution_count": 50,
   "metadata": {},
   "outputs": [],
   "source": [
    "#15 split unique\n",
    "# unique_train_cleaned_df.to_csv('dataset_diabetes/experiment/15/unique_train_cleaned_15.csv', index=False)\n",
    "# unique_test_cleaned_df.to_csv('dataset_diabetes/experiment/15/unique_test_cleaned_15.csv', index=False)\n"
   ]
  },
  {
   "cell_type": "markdown",
   "metadata": {},
   "source": [
    "#**20 Percent split over all. Comment out once it is run**"
   ]
  },
  {
   "cell_type": "code",
   "execution_count": 52,
   "metadata": {},
   "outputs": [
    {
     "name": "stdout",
     "output_type": "stream",
     "text": [
      "(79456, 94)\n",
      "(19864, 94)\n"
     ]
    }
   ],
   "source": [
    "#20 train test split\n",
    "train_cleaned_df, test_cleaned_df = train_test_split(cleaned_df, test_size=0.2, random_state=123)\n",
    "\n",
    "print(train_cleaned_df.shape)\n",
    "print(test_cleaned_df.shape)\n"
   ]
  },
  {
   "cell_type": "markdown",
   "metadata": {},
   "source": [
    "#**20 Percent split WHOLE. Comment out once it is run**"
   ]
  },
  {
   "cell_type": "code",
   "execution_count": 53,
   "metadata": {},
   "outputs": [],
   "source": [
    "\n",
    "#20 split whole\n",
    "# train_cleaned_df.to_csv('dataset_diabetes/experiment/20/whole_train_cleaned_20.csv', index=False)\n",
    "# test_cleaned_df.to_csv('dataset_diabetes/experiment/20/whole_test_cleaned_20_DONT_USE.csv', index=False)"
   ]
  },
  {
   "cell_type": "markdown",
   "metadata": {},
   "source": [
    "**Create UNIQUE 20**"
   ]
  },
  {
   "cell_type": "code",
   "execution_count": 54,
   "metadata": {},
   "outputs": [],
   "source": [
    "#Make unique versions\n",
    "# unique_train_cleaned_df = train_cleaned_df.drop_duplicates(subset= ['patient_nbr'], keep = 'first')\n",
    "# unique_test_cleaned_df = test_cleaned_df.drop_duplicates(subset= ['patient_nbr'], keep = 'first')\n"
   ]
  },
  {
   "cell_type": "code",
   "execution_count": 55,
   "metadata": {},
   "outputs": [],
   "source": [
    "#20 split unique\n",
    "# unique_train_cleaned_df.to_csv('dataset_diabetes/experiment/20/unique_train_cleaned_20.csv', index=False)\n",
    "# unique_test_cleaned_df.to_csv('dataset_diabetes/experiment/20/unique_test_cleaned_20.csv', index=False)\n"
   ]
  },
  {
   "cell_type": "markdown",
   "metadata": {},
   "source": [
    "#**25 Percent split over all. Comment out once it is run**"
   ]
  },
  {
   "cell_type": "code",
   "execution_count": 57,
   "metadata": {},
   "outputs": [
    {
     "name": "stdout",
     "output_type": "stream",
     "text": [
      "(74490, 94)\n",
      "(24830, 94)\n"
     ]
    }
   ],
   "source": [
    "#25 train test split\n",
    "train_cleaned_df, test_cleaned_df = train_test_split(cleaned_df, test_size=0.25, random_state=123)\n",
    "\n",
    "print(train_cleaned_df.shape)\n",
    "print(test_cleaned_df.shape)\n"
   ]
  },
  {
   "cell_type": "markdown",
   "metadata": {},
   "source": [
    "#**25 Percent split WHOLE. Comment out once it is run**"
   ]
  },
  {
   "cell_type": "code",
   "execution_count": 58,
   "metadata": {},
   "outputs": [],
   "source": [
    "\n",
    "#25 split whole\n",
    "# train_cleaned_df.to_csv('dataset_diabetes/experiment/25/whole_train_cleaned_25.csv', index=False)\n",
    "# test_cleaned_df.to_csv('dataset_diabetes/experiment/25/whole_test_cleaned_25_DONT_USE.csv', index=False)"
   ]
  },
  {
   "cell_type": "markdown",
   "metadata": {},
   "source": [
    "**Create UNIQUE 25**"
   ]
  },
  {
   "cell_type": "code",
   "execution_count": 59,
   "metadata": {},
   "outputs": [],
   "source": [
    "#Make unique versions\n",
    "# unique_train_cleaned_df = train_cleaned_df.drop_duplicates(subset= ['patient_nbr'], keep = 'first')\n",
    "# unique_test_cleaned_df = test_cleaned_df.drop_duplicates(subset= ['patient_nbr'], keep = 'first')\n"
   ]
  },
  {
   "cell_type": "code",
   "execution_count": 60,
   "metadata": {},
   "outputs": [],
   "source": [
    "#25 split unique\n",
    "# unique_train_cleaned_df.to_csv('dataset_diabetes/experiment/25/unique_train_cleaned_25.csv', index=False)\n",
    "# unique_test_cleaned_df.to_csv('dataset_diabetes/experiment/25/unique_test_cleaned_25.csv', index=False)\n"
   ]
  },
  {
   "cell_type": "markdown",
   "metadata": {},
   "source": [
    "#**30 Percent split over all. Comment out once it is run**"
   ]
  },
  {
   "cell_type": "code",
   "execution_count": 61,
   "metadata": {},
   "outputs": [
    {
     "name": "stdout",
     "output_type": "stream",
     "text": [
      "(69524, 94)\n",
      "(29796, 94)\n"
     ]
    }
   ],
   "source": [
    "#30 train test split\n",
    "train_cleaned_df, test_cleaned_df = train_test_split(cleaned_df, test_size=0.30, random_state=123)\n",
    "\n",
    "print(train_cleaned_df.shape)\n",
    "print(test_cleaned_df.shape)\n"
   ]
  },
  {
   "cell_type": "markdown",
   "metadata": {},
   "source": [
    "#**30 Percent split WHOLE. Comment out once it is run**"
   ]
  },
  {
   "cell_type": "code",
   "execution_count": 63,
   "metadata": {},
   "outputs": [],
   "source": [
    "\n",
    "#30 split whole\n",
    "train_cleaned_df.to_csv('dataset_diabetes/experiment/30/whole_train_cleaned_30.csv', index=False)\n",
    "test_cleaned_df.to_csv('dataset_diabetes/experiment/30/whole_test_cleaned_30_DONT_USE.csv', index=False)"
   ]
  },
  {
   "cell_type": "markdown",
   "metadata": {},
   "source": [
    "**Create UNIQUE 30**"
   ]
  },
  {
   "cell_type": "code",
   "execution_count": 64,
   "metadata": {},
   "outputs": [],
   "source": [
    "#Make unique versions\n",
    "unique_train_cleaned_df = train_cleaned_df.drop_duplicates(subset= ['patient_nbr'], keep = 'first')\n",
    "unique_test_cleaned_df = test_cleaned_df.drop_duplicates(subset= ['patient_nbr'], keep = 'first')\n"
   ]
  },
  {
   "cell_type": "code",
   "execution_count": 65,
   "metadata": {},
   "outputs": [],
   "source": [
    "#30 split unique\n",
    "unique_train_cleaned_df.to_csv('dataset_diabetes/experiment/30/unique_train_cleaned_30.csv', index=False)\n",
    "unique_test_cleaned_df.to_csv('dataset_diabetes/experiment/30/unique_test_cleaned_30.csv', index=False)\n"
   ]
  },
  {
   "cell_type": "code",
   "execution_count": 62,
   "metadata": {},
   "outputs": [
    {
     "data": {
      "text/plain": [
       "(13835, 94)"
      ]
     },
     "execution_count": 62,
     "metadata": {},
     "output_type": "execute_result"
    }
   ],
   "source": [
    "unique_test_cleaned_df.shape"
   ]
  },
  {
   "cell_type": "code",
   "execution_count": null,
   "metadata": {},
   "outputs": [],
   "source": []
  },
  {
   "cell_type": "code",
   "execution_count": null,
   "metadata": {},
   "outputs": [],
   "source": []
  },
  {
   "cell_type": "code",
   "execution_count": null,
   "metadata": {},
   "outputs": [],
   "source": []
  },
  {
   "cell_type": "code",
   "execution_count": null,
   "metadata": {},
   "outputs": [],
   "source": []
  },
  {
   "cell_type": "code",
   "execution_count": null,
   "metadata": {},
   "outputs": [],
   "source": []
  },
  {
   "cell_type": "code",
   "execution_count": null,
   "metadata": {},
   "outputs": [],
   "source": []
  },
  {
   "cell_type": "code",
   "execution_count": null,
   "metadata": {},
   "outputs": [],
   "source": []
  },
  {
   "cell_type": "code",
   "execution_count": null,
   "metadata": {},
   "outputs": [],
   "source": []
  },
  {
   "cell_type": "code",
   "execution_count": null,
   "metadata": {},
   "outputs": [],
   "source": []
  },
  {
   "cell_type": "code",
   "execution_count": 122,
   "metadata": {},
   "outputs": [],
   "source": [
    "unique_cleaned_df = cleaned_df.drop_duplicates(subset= ['patient_nbr'], keep = 'first')\n"
   ]
  },
  {
   "cell_type": "code",
   "execution_count": 123,
   "metadata": {},
   "outputs": [],
   "source": [
    "train_unique_cleaned_df, test_unique_cleaned_df = train_test_split(unique_cleaned_df, test_size=0.15, random_state=123)\n"
   ]
  },
  {
   "cell_type": "code",
   "execution_count": null,
   "metadata": {},
   "outputs": [],
   "source": []
  },
  {
   "cell_type": "code",
   "execution_count": null,
   "metadata": {},
   "outputs": [],
   "source": []
  },
  {
   "cell_type": "code",
   "execution_count": 124,
   "metadata": {},
   "outputs": [],
   "source": [
    "unique_cleaned_df.to_csv('./unique_cleaned_df.csv', index=False)\n",
    "\n",
    "train_unique_cleaned_df.to_csv('./train_unique_cleaned_df.csv', index=False)\n",
    "test_unique_cleaned_df.to_csv('./test_unique_cleaned_df.csv', index=False)\n"
   ]
  },
  {
   "cell_type": "code",
   "execution_count": null,
   "metadata": {},
   "outputs": [],
   "source": []
  },
  {
   "cell_type": "code",
   "execution_count": 103,
   "metadata": {},
   "outputs": [],
   "source": [
    "df2_cleaned = df_cleaned.drop_duplicates(subset= ['patient_nbr'], keep = 'first')\n"
   ]
  },
  {
   "cell_type": "code",
   "execution_count": 104,
   "metadata": {},
   "outputs": [],
   "source": [
    "df2_cleaned.to_csv('./diabetic_df_cleaned_unique_only')\n"
   ]
  },
  {
   "cell_type": "code",
   "execution_count": 37,
   "metadata": {},
   "outputs": [],
   "source": [
    "from sklearn.model_selection import train_test_split\n"
   ]
  },
  {
   "cell_type": "code",
   "execution_count": 88,
   "metadata": {},
   "outputs": [],
   "source": [
    "train_df, test_df = train_test_split(df_cleaned, test_size=0.10, random_state=13)\n"
   ]
  },
  {
   "cell_type": "code",
   "execution_count": 51,
   "metadata": {},
   "outputs": [],
   "source": [
    "train_cleaned_df.to_csv('./train_cleaned_df.csv', index=False)\n",
    "test_cleaned_df.to_csv('./test_cleaned_df.csv', index=False)\n"
   ]
  },
  {
   "cell_type": "code",
   "execution_count": 90,
   "metadata": {
    "scrolled": true
   },
   "outputs": [
    {
     "name": "stdout",
     "output_type": "stream",
     "text": [
      "(89388, 94)\n",
      "(9932, 94)\n"
     ]
    },
    {
     "data": {
      "text/plain": [
       "0.1111111111111111"
      ]
     },
     "execution_count": 90,
     "metadata": {},
     "output_type": "execute_result"
    }
   ],
   "source": [
    "print(train_cleaned_df.shape)\n",
    "print(test_cleaned_df.shape)\n",
    "9932/89388"
   ]
  },
  {
   "cell_type": "code",
   "execution_count": 96,
   "metadata": {},
   "outputs": [],
   "source": [
    "unique_train_cleaned_df = train_cleaned_df.drop_duplicates(subset= ['patient_nbr'], keep = 'first')\n",
    "unique_test_cleaned_df = test_cleaned_df.drop_duplicates(subset= ['patient_nbr'], keep = 'first')\n",
    "\n"
   ]
  },
  {
   "cell_type": "code",
   "execution_count": 92,
   "metadata": {},
   "outputs": [],
   "source": [
    "asdafsdf = df_cleaned.drop_duplicates(subset= ['patient_nbr'], keep = 'first')\n"
   ]
  },
  {
   "cell_type": "code",
   "execution_count": 93,
   "metadata": {},
   "outputs": [],
   "source": [
    "new_unique_train_cleaned_df, new_unique_train_cleaned_df = train_test_split(asdafsdf, test_size=0.15, random_state=13)\n"
   ]
  },
  {
   "cell_type": "code",
   "execution_count": 94,
   "metadata": {},
   "outputs": [
    {
     "data": {
      "text/html": [
       "<div>\n",
       "<style scoped>\n",
       "    .dataframe tbody tr th:only-of-type {\n",
       "        vertical-align: middle;\n",
       "    }\n",
       "\n",
       "    .dataframe tbody tr th {\n",
       "        vertical-align: top;\n",
       "    }\n",
       "\n",
       "    .dataframe thead th {\n",
       "        text-align: right;\n",
       "    }\n",
       "</style>\n",
       "<table border=\"1\" class=\"dataframe\">\n",
       "  <thead>\n",
       "    <tr style=\"text-align: right;\">\n",
       "      <th></th>\n",
       "      <th>values</th>\n",
       "      <th>counts</th>\n",
       "      <th>frequency</th>\n",
       "    </tr>\n",
       "  </thead>\n",
       "  <tbody>\n",
       "    <tr>\n",
       "      <th>0</th>\n",
       "      <td>0</td>\n",
       "      <td>88011</td>\n",
       "      <td>0.886136</td>\n",
       "    </tr>\n",
       "    <tr>\n",
       "      <th>1</th>\n",
       "      <td>1</td>\n",
       "      <td>11309</td>\n",
       "      <td>0.113864</td>\n",
       "    </tr>\n",
       "  </tbody>\n",
       "</table>\n",
       "</div>"
      ],
      "text/plain": [
       "   values  counts  frequency\n",
       "0       0   88011   0.886136\n",
       "1       1   11309   0.113864"
      ]
     },
     "execution_count": 94,
     "metadata": {},
     "output_type": "execute_result"
    }
   ],
   "source": [
    "summarize_feature(df_cleaned, 'readmitted')"
   ]
  },
  {
   "cell_type": "code",
   "execution_count": 59,
   "metadata": {
    "scrolled": true
   },
   "outputs": [
    {
     "data": {
      "text/html": [
       "<div>\n",
       "<style scoped>\n",
       "    .dataframe tbody tr th:only-of-type {\n",
       "        vertical-align: middle;\n",
       "    }\n",
       "\n",
       "    .dataframe tbody tr th {\n",
       "        vertical-align: top;\n",
       "    }\n",
       "\n",
       "    .dataframe thead th {\n",
       "        text-align: right;\n",
       "    }\n",
       "</style>\n",
       "<table border=\"1\" class=\"dataframe\">\n",
       "  <thead>\n",
       "    <tr style=\"text-align: right;\">\n",
       "      <th></th>\n",
       "      <th>values</th>\n",
       "      <th>counts</th>\n",
       "      <th>frequency</th>\n",
       "    </tr>\n",
       "  </thead>\n",
       "  <tbody>\n",
       "    <tr>\n",
       "      <th>0</th>\n",
       "      <td>0</td>\n",
       "      <td>74837</td>\n",
       "      <td>0.886463</td>\n",
       "    </tr>\n",
       "    <tr>\n",
       "      <th>1</th>\n",
       "      <td>1</td>\n",
       "      <td>9585</td>\n",
       "      <td>0.113537</td>\n",
       "    </tr>\n",
       "  </tbody>\n",
       "</table>\n",
       "</div>"
      ],
      "text/plain": [
       "   values  counts  frequency\n",
       "0       0   74837   0.886463\n",
       "1       1    9585   0.113537"
      ]
     },
     "execution_count": 59,
     "metadata": {},
     "output_type": "execute_result"
    }
   ],
   "source": [
    "summarize_feature(train_cleaned_df, 'readmitted')"
   ]
  },
  {
   "cell_type": "code",
   "execution_count": 95,
   "metadata": {},
   "outputs": [
    {
     "data": {
      "text/html": [
       "<div>\n",
       "<style scoped>\n",
       "    .dataframe tbody tr th:only-of-type {\n",
       "        vertical-align: middle;\n",
       "    }\n",
       "\n",
       "    .dataframe tbody tr th {\n",
       "        vertical-align: top;\n",
       "    }\n",
       "\n",
       "    .dataframe thead th {\n",
       "        text-align: right;\n",
       "    }\n",
       "</style>\n",
       "<table border=\"1\" class=\"dataframe\">\n",
       "  <thead>\n",
       "    <tr style=\"text-align: right;\">\n",
       "      <th></th>\n",
       "      <th>values</th>\n",
       "      <th>counts</th>\n",
       "      <th>frequency</th>\n",
       "    </tr>\n",
       "  </thead>\n",
       "  <tbody>\n",
       "    <tr>\n",
       "      <th>0</th>\n",
       "      <td>0</td>\n",
       "      <td>8380</td>\n",
       "      <td>0.895395</td>\n",
       "    </tr>\n",
       "    <tr>\n",
       "      <th>1</th>\n",
       "      <td>1</td>\n",
       "      <td>979</td>\n",
       "      <td>0.104605</td>\n",
       "    </tr>\n",
       "  </tbody>\n",
       "</table>\n",
       "</div>"
      ],
      "text/plain": [
       "   values  counts  frequency\n",
       "0       0    8380   0.895395\n",
       "1       1     979   0.104605"
      ]
     },
     "execution_count": 95,
     "metadata": {},
     "output_type": "execute_result"
    }
   ],
   "source": [
    "summarize_feature(test_cleaned_df, 'readmitted')"
   ]
  },
  {
   "cell_type": "code",
   "execution_count": 97,
   "metadata": {},
   "outputs": [
    {
     "data": {
      "text/html": [
       "<div>\n",
       "<style scoped>\n",
       "    .dataframe tbody tr th:only-of-type {\n",
       "        vertical-align: middle;\n",
       "    }\n",
       "\n",
       "    .dataframe tbody tr th {\n",
       "        vertical-align: top;\n",
       "    }\n",
       "\n",
       "    .dataframe thead th {\n",
       "        text-align: right;\n",
       "    }\n",
       "</style>\n",
       "<table border=\"1\" class=\"dataframe\">\n",
       "  <thead>\n",
       "    <tr style=\"text-align: right;\">\n",
       "      <th></th>\n",
       "      <th>values</th>\n",
       "      <th>counts</th>\n",
       "      <th>frequency</th>\n",
       "    </tr>\n",
       "  </thead>\n",
       "  <tbody>\n",
       "    <tr>\n",
       "      <th>0</th>\n",
       "      <td>0</td>\n",
       "      <td>59652</td>\n",
       "      <td>0.925167</td>\n",
       "    </tr>\n",
       "    <tr>\n",
       "      <th>1</th>\n",
       "      <td>1</td>\n",
       "      <td>4825</td>\n",
       "      <td>0.074833</td>\n",
       "    </tr>\n",
       "  </tbody>\n",
       "</table>\n",
       "</div>"
      ],
      "text/plain": [
       "   values  counts  frequency\n",
       "0       0   59652   0.925167\n",
       "1       1    4825   0.074833"
      ]
     },
     "execution_count": 97,
     "metadata": {},
     "output_type": "execute_result"
    }
   ],
   "source": [
    "summarize_feature(unique_train_cleaned_df, 'readmitted')"
   ]
  },
  {
   "cell_type": "code",
   "execution_count": 98,
   "metadata": {},
   "outputs": [
    {
     "data": {
      "text/html": [
       "<div>\n",
       "<style scoped>\n",
       "    .dataframe tbody tr th:only-of-type {\n",
       "        vertical-align: middle;\n",
       "    }\n",
       "\n",
       "    .dataframe tbody tr th {\n",
       "        vertical-align: top;\n",
       "    }\n",
       "\n",
       "    .dataframe thead th {\n",
       "        text-align: right;\n",
       "    }\n",
       "</style>\n",
       "<table border=\"1\" class=\"dataframe\">\n",
       "  <thead>\n",
       "    <tr style=\"text-align: right;\">\n",
       "      <th></th>\n",
       "      <th>values</th>\n",
       "      <th>counts</th>\n",
       "      <th>frequency</th>\n",
       "    </tr>\n",
       "  </thead>\n",
       "  <tbody>\n",
       "    <tr>\n",
       "      <th>0</th>\n",
       "      <td>0</td>\n",
       "      <td>8380</td>\n",
       "      <td>0.895395</td>\n",
       "    </tr>\n",
       "    <tr>\n",
       "      <th>1</th>\n",
       "      <td>1</td>\n",
       "      <td>979</td>\n",
       "      <td>0.104605</td>\n",
       "    </tr>\n",
       "  </tbody>\n",
       "</table>\n",
       "</div>"
      ],
      "text/plain": [
       "   values  counts  frequency\n",
       "0       0    8380   0.895395\n",
       "1       1     979   0.104605"
      ]
     },
     "execution_count": 98,
     "metadata": {},
     "output_type": "execute_result"
    }
   ],
   "source": [
    "summarize_feature(unique_test_cleaned_df, 'readmitted')"
   ]
  },
  {
   "cell_type": "code",
   "execution_count": 99,
   "metadata": {},
   "outputs": [
    {
     "data": {
      "text/html": [
       "<div>\n",
       "<style scoped>\n",
       "    .dataframe tbody tr th:only-of-type {\n",
       "        vertical-align: middle;\n",
       "    }\n",
       "\n",
       "    .dataframe tbody tr th {\n",
       "        vertical-align: top;\n",
       "    }\n",
       "\n",
       "    .dataframe thead th {\n",
       "        text-align: right;\n",
       "    }\n",
       "</style>\n",
       "<table border=\"1\" class=\"dataframe\">\n",
       "  <thead>\n",
       "    <tr style=\"text-align: right;\">\n",
       "      <th></th>\n",
       "      <th>values</th>\n",
       "      <th>counts</th>\n",
       "      <th>frequency</th>\n",
       "    </tr>\n",
       "  </thead>\n",
       "  <tbody>\n",
       "    <tr>\n",
       "      <th>0</th>\n",
       "      <td>0</td>\n",
       "      <td>54139</td>\n",
       "      <td>0.910175</td>\n",
       "    </tr>\n",
       "    <tr>\n",
       "      <th>1</th>\n",
       "      <td>1</td>\n",
       "      <td>5343</td>\n",
       "      <td>0.089825</td>\n",
       "    </tr>\n",
       "  </tbody>\n",
       "</table>\n",
       "</div>"
      ],
      "text/plain": [
       "   values  counts  frequency\n",
       "0       0   54139   0.910175\n",
       "1       1    5343   0.089825"
      ]
     },
     "execution_count": 99,
     "metadata": {},
     "output_type": "execute_result"
    }
   ],
   "source": [
    "summarize_feature(new_unique_train_cleaned_df, 'readmitted')"
   ]
  },
  {
   "cell_type": "code",
   "execution_count": 100,
   "metadata": {},
   "outputs": [
    {
     "data": {
      "text/html": [
       "<div>\n",
       "<style scoped>\n",
       "    .dataframe tbody tr th:only-of-type {\n",
       "        vertical-align: middle;\n",
       "    }\n",
       "\n",
       "    .dataframe tbody tr th {\n",
       "        vertical-align: top;\n",
       "    }\n",
       "\n",
       "    .dataframe thead th {\n",
       "        text-align: right;\n",
       "    }\n",
       "</style>\n",
       "<table border=\"1\" class=\"dataframe\">\n",
       "  <thead>\n",
       "    <tr style=\"text-align: right;\">\n",
       "      <th></th>\n",
       "      <th>values</th>\n",
       "      <th>counts</th>\n",
       "      <th>frequency</th>\n",
       "    </tr>\n",
       "  </thead>\n",
       "  <tbody>\n",
       "    <tr>\n",
       "      <th>0</th>\n",
       "      <td>0</td>\n",
       "      <td>12290</td>\n",
       "      <td>0.896557</td>\n",
       "    </tr>\n",
       "    <tr>\n",
       "      <th>1</th>\n",
       "      <td>1</td>\n",
       "      <td>1418</td>\n",
       "      <td>0.103443</td>\n",
       "    </tr>\n",
       "  </tbody>\n",
       "</table>\n",
       "</div>"
      ],
      "text/plain": [
       "   values  counts  frequency\n",
       "0       0   12290   0.896557\n",
       "1       1    1418   0.103443"
      ]
     },
     "execution_count": 100,
     "metadata": {},
     "output_type": "execute_result"
    }
   ],
   "source": [
    "summarize_feature(new_unique_test_cleaned_df, 'readmitted')"
   ]
  },
  {
   "cell_type": "code",
   "execution_count": null,
   "metadata": {},
   "outputs": [],
   "source": []
  }
 ],
 "metadata": {
  "kernelspec": {
   "display_name": "Python 3",
   "language": "python",
   "name": "python3"
  },
  "language_info": {
   "codemirror_mode": {
    "name": "ipython",
    "version": 3
   },
   "file_extension": ".py",
   "mimetype": "text/x-python",
   "name": "python",
   "nbconvert_exporter": "python",
   "pygments_lexer": "ipython3",
   "version": "3.7.3"
  }
 },
 "nbformat": 4,
 "nbformat_minor": 2
}
